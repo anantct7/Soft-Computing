{
 "cells": [
  {
   "cell_type": "code",
   "execution_count": 1,
   "metadata": {},
   "outputs": [
    {
     "name": "stdout",
     "output_type": "stream",
     "text": [
      "importing Jupyter notebook from Data_Extract.ipynb\n"
     ]
    }
   ],
   "source": [
    "import numpy as np\n",
    "import matplotlib.pyplot as plt\n",
    "import csv\n",
    "import random\n",
    "import import_ipynb\n",
    "import Data_Extract"
   ]
  },
  {
   "cell_type": "code",
   "execution_count": 2,
   "metadata": {},
   "outputs": [],
   "source": [
    "%run Data_Extract.ipynb\n",
    "Data = Data_extract()\n",
    "(train_x, test_x, train_y, test_y, freq_Word) = Data_pre_process(Data)\n",
    "train_x = transform_x(train_x, freq_Word)\n",
    "test_x = transform_x(test_x, freq_Word)\n",
    "train_y = transform_y(train_y)\n",
    "test_y = transform_y(test_y)"
   ]
  },
  {
   "cell_type": "code",
   "execution_count": 3,
   "metadata": {},
   "outputs": [],
   "source": [
    "def prediction_y(train_y) :\n",
    "    Den = float(train_y.shape[0])\n",
    "    Num = 0\n",
    "    for i in range(train_y.shape[0]) :\n",
    "        Num = Num + train_y[i]\n",
    "    Num = float(Num)\n",
    "    return float(Num / Den)\n",
    "def probability_y(train_y, Val_y) :\n",
    "    Phi = prediction_y(train_y)\n",
    "    Val1 = Phi ** Val_y\n",
    "    Val2 = (float(1) - Phi) ** (1 - Val_y)\n",
    "    return Val1 * Val2\n",
    "def prediction_x_1(train_x, train_y, index_Word) :\n",
    "    Den = 0\n",
    "    for i in range(train_y.shape[0]) :\n",
    "        Den = Den + train_y[i]\n",
    "    Den = float(Den)\n",
    "    Num = 0\n",
    "    for i in range(train_x.shape[0]) :\n",
    "        if(train_y[i] == 1 and train_x[i][index_Word] == 1) :\n",
    "            Num = Num + 1\n",
    "    Num = float(Num)\n",
    "    return float((Num + float(1))/ (Den + float(2)))\n",
    "def prediction_x_0(train_x, train_y, index_Word) :\n",
    "    Den = 0\n",
    "    for i in range(train_y.shape[0]) :\n",
    "        Den = Den + (float(1) - train_y[i])\n",
    "    Den = float(Den)\n",
    "    Num = 0\n",
    "    for i in range(train_x.shape[0]) :\n",
    "        if(train_y[i] == 0 and train_x[i][index_Word] == 1) :\n",
    "            Num = Num + 1\n",
    "    Num = float(Num)\n",
    "    return float((Num + float(1))/ (Den + float(2)))\n",
    "def probability_x(Phi, Val_x) :\n",
    "    Val1 = Phi ** Val_x\n",
    "    Val2 = (1 - Phi) ** (1 - Val_x)\n",
    "    return Val1  * Val2"
   ]
  },
  {
   "cell_type": "code",
   "execution_count": 4,
   "metadata": {},
   "outputs": [],
   "source": [
    "prob_y_1 = probability_y(train_y, 1)\n",
    "prob_y_0 = probability_y(train_y, 0)\n",
    "Vals_Phi_x_1 = np.zeros(train_x.shape[1])\n",
    "Vals_Phi_x_0 = np.zeros(train_x.shape[1])\n",
    "for i in range(train_x.shape[1]) :\n",
    "    Vals_Phi_x_1[i] = prediction_x_1(train_x, train_y, i)\n",
    "    Vals_Phi_x_0[i] = prediction_x_0(train_x, train_y, i)"
   ]
  },
  {
   "cell_type": "code",
   "execution_count": 5,
   "metadata": {
    "scrolled": true
   },
   "outputs": [
    {
     "name": "stdout",
     "output_type": "stream",
     "text": [
      "Accuracy:  98.7948717948718\n"
     ]
    }
   ],
   "source": [
    "correct_total = 0\n",
    "for i in range(train_x.shape[0]) :\n",
    "    Den = float(0)\n",
    "    Den1 = prob_y_1\n",
    "    for j in range(train_x.shape[1]) :\n",
    "        Den1 = Den1 * probability_x(Vals_Phi_x_1[j], train_x[i][j])\n",
    "    Den = Den + Den1\n",
    "    Den1 = prob_y_0\n",
    "    for j in range(train_x.shape[1]) :\n",
    "        Den1 = Den1 * probability_x(Vals_Phi_x_0[j], train_x[i][j])\n",
    "    Den = Den + Den1\n",
    "    Num = float(0)\n",
    "    Num1 = prob_y_1\n",
    "    for j in range(train_x.shape[1]) :\n",
    "        Num1 = Num1 * probability_x(Vals_Phi_x_1[j], train_x[i][j])\n",
    "    Num = Num + Num1\n",
    "    prediction_spam = Num / Den\n",
    "    Num = float(0)\n",
    "    Num1 = prob_y_0\n",
    "    for j in range(train_x.shape[1]) :\n",
    "        Num1 = Num1 * probability_x(Vals_Phi_x_0[j], train_x[i][j])\n",
    "    Num = Num + Num1\n",
    "    prediction_ham = Num / Den\n",
    "    if(prediction_spam >= prediction_ham and train_y[i] == 1) :\n",
    "        correct_total = correct_total + 1\n",
    "    elif(prediction_spam < prediction_ham and train_y[i] == 0) :\n",
    "        correct_total = correct_total + 1\n",
    "Accuracy = (float(correct_total) / float(train_x.shape[0])) * 100\n",
    "print('Accuracy: ', Accuracy)"
   ]
  },
  {
   "cell_type": "code",
   "execution_count": 6,
   "metadata": {},
   "outputs": [
    {
     "name": "stdout",
     "output_type": "stream",
     "text": [
      "Accuracy:  97.78708133971293\n"
     ]
    }
   ],
   "source": [
    "correct_total = 0\n",
    "for i in range(test_x.shape[0]) :    \n",
    "    Den = float(0)\n",
    "    Den1 = prob_y_1\n",
    "    for j in range(test_x.shape[1]) :\n",
    "        Den1 = Den1 * probability_x(Vals_Phi_x_1[j], test_x[i][j])\n",
    "    Den = Den + Den1\n",
    "    Den1 = prob_y_0\n",
    "    for j in range(test_x.shape[1]) :\n",
    "        Den1 = Den1 * probability_x(Vals_Phi_x_0[j], test_x[i][j])\n",
    "    Den = Den + Den1\n",
    "    Num = float(0)\n",
    "    Num1 = prob_y_1\n",
    "    for j in range(test_x.shape[1]) :\n",
    "        Num1 = Num1 * probability_x(Vals_Phi_x_1[j], test_x[i][j])\n",
    "    Num = Num + Num1\n",
    "    prediction_spam = Num / Den\n",
    "    Num = float(0)\n",
    "    Num1 = prob_y_0\n",
    "    for j in range(test_x.shape[1]) :\n",
    "        Num1 = Num1 * probability_x(Vals_Phi_x_0[j], test_x[i][j])\n",
    "    Num = Num + Num1\n",
    "    prediction_ham = Num / Den\n",
    "    if(prediction_spam >= prediction_ham and test_y[i] == 1) :\n",
    "        correct_total = correct_total + 1\n",
    "    elif(prediction_spam < prediction_ham and test_y[i] == 0) :\n",
    "        correct_total = correct_total + 1\n",
    "Accuracy = (float(correct_total) / float(test_x.shape[0])) * 100\n",
    "print('Accuracy: ', Accuracy)"
   ]
  }
 ],
 "metadata": {
  "kernelspec": {
   "display_name": "Python 3",
   "language": "python",
   "name": "python3"
  },
  "language_info": {
   "codemirror_mode": {
    "name": "ipython",
    "version": 3
   },
   "file_extension": ".py",
   "mimetype": "text/x-python",
   "name": "python",
   "nbconvert_exporter": "python",
   "pygments_lexer": "ipython3",
   "version": "3.7.1"
  }
 },
 "nbformat": 4,
 "nbformat_minor": 2
}
