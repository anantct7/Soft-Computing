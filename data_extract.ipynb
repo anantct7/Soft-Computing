{
 "cells": [
  {
   "cell_type": "code",
   "execution_count": null,
   "metadata": {},
   "outputs": [],
   "source": [
    "import numpy as np\n",
    "import matplotlib.pyplot as plt\n",
    "import tensorflow as tf\n",
    "import random"
   ]
  },
  {
   "cell_type": "code",
   "execution_count": null,
   "metadata": {},
   "outputs": [],
   "source": [
    "(train_x, train_y), (test_x, test_y) = tf.keras.datasets.mnist.load_data()"
   ]
  },
  {
   "cell_type": "code",
   "execution_count": null,
   "metadata": {},
   "outputs": [],
   "source": [
    "train_X, train_Y = [], []\n",
    "x_3, x_8 = [], []\n",
    "y_3, y_8 = [], []\n",
    "for i in range(train_x.shape[0]) :\n",
    "    if(train_y[i] == 3) :\n",
    "        x_3.append(train_x[i].flatten())\n",
    "        y_3.append(float(1))\n",
    "    elif(train_y[i] == 8) :\n",
    "        x_8.append(train_x[i].flatten())\n",
    "        y_8.append(float(-1))\n",
    "size_training = 1000\n",
    "indices_training_3 = random.sample(range(0, len(x_3)), int(size_training / 2))\n",
    "indices_training_8 = random.sample(range(0, len(x_8)), int(size_training / 2))\n",
    "for i in indices_training_3:\n",
    "    train_X.append(x_3[i])\n",
    "    train_Y.append(y_3[i])\n",
    "for i in indices_training_8 :\n",
    "    train_X.append(x_8[i])\n",
    "    train_Y.append(y_8[i])   \n",
    "train_X = np.array(train_X)\n",
    "train_Y = np.array(train_Y)"
   ]
  },
  {
   "cell_type": "code",
   "execution_count": null,
   "metadata": {},
   "outputs": [],
   "source": [
    "validation_X, validation_Y = [], []\n",
    "test_X, test_Y = [], []    \n",
    "size_validation = int((2 * size_training) / 3)\n",
    "size_testing = int((2 * size_training) / 3)\n",
    "total_X, total_Y = [], []\n",
    "for i in range(test_x.shape[0]) :\n",
    "    if(test_y[i] == 3) :\n",
    "        total_X.append(test_x[i].flatten())\n",
    "        total_Y.append(float(1))\n",
    "    elif(test_y[i] == 8) :\n",
    "        total_X.append(test_x[i].flatten())\n",
    "        total_Y.append(float(-1))  \n",
    "x1, y1 = [], []       \n",
    "indices_validation = random.sample(range(0, len(total_X)), size_validation)\n",
    "for i in range(len(total_X)) :\n",
    "    if(i in indices_validation) :\n",
    "        validation_X.append(total_X[i])\n",
    "        validation_Y.append(total_Y[i])\n",
    "    else :\n",
    "        x1.append(total_X[i])\n",
    "        y1.append(total_Y[i])\n",
    "indices_testing = random.sample(range(0, len(x1)), size_testing) \n",
    "for i in indices_testing :\n",
    "    test_X.append(x1[i])\n",
    "    test_Y.append(y1[i])\n",
    "validation_X = np.array(validation_X)\n",
    "test_X = np.array(test_X)\n",
    "validation_Y = np.array(validation_Y)\n",
    "test_Y = np.array(test_Y)"
   ]
  },
  {
   "cell_type": "code",
   "execution_count": null,
   "metadata": {},
   "outputs": [],
   "source": [
    "train_X = np.divide(train_X, float(255))\n",
    "validation_X = np.divide(validation_X, float(255))\n",
    "test_X = np.divide(test_X, float(255))"
   ]
  }
 ],
 "metadata": {
  "kernelspec": {
   "display_name": "Python 3",
   "language": "python",
   "name": "python3"
  },
  "language_info": {
   "codemirror_mode": {
    "name": "ipython",
    "version": 3
   },
   "file_extension": ".py",
   "mimetype": "text/x-python",
   "name": "python",
   "nbconvert_exporter": "python",
   "pygments_lexer": "ipython3",
   "version": "3.7.1"
  }
 },
 "nbformat": 4,
 "nbformat_minor": 2
}
