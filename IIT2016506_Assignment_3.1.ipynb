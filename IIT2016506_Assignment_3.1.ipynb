{
 "cells": [
  {
   "cell_type": "code",
   "execution_count": 1,
   "metadata": {},
   "outputs": [],
   "source": [
    "import docx\n",
    "import numpy as np\n",
    "import matplotlib.pyplot as plt\n",
    "import random"
   ]
  },
  {
   "cell_type": "code",
   "execution_count": 2,
   "metadata": {},
   "outputs": [],
   "source": [
    "def extract_text(name_file):\n",
    "    doc = docx.Document(name_file)\n",
    "    line = []\n",
    "    for full_text in doc.paragraphs:\n",
    "        tmp = full_text.text.split(\",\")\n",
    "        line.append(tmp)\n",
    "    line = line[2 : len(line) - 1]\n",
    "    return line\n",
    "dataset = extract_text(\"dataset_exam.docx\")\n",
    "for i in range(len(dataset)) :\n",
    "    for j in range(len(dataset[0])) :\n",
    "        dataset[i][j] = float(dataset[i][j])\n",
    "dataset = np.array(dataset)"
   ]
  },
  {
   "cell_type": "code",
   "execution_count": 3,
   "metadata": {},
   "outputs": [],
   "source": [
    "X = dataset[ : , : -1]\n",
    "X0 = np.ones((X.shape[0], 1))\n",
    "X = np.hstack((X0, X))\n",
    "col_mean = np.mean(X, axis=0)\n",
    "col_std = np.std(X, axis=0)\n",
    "for i in range(1, X.shape[1]) :\n",
    "    for j in range(X.shape[0]) :\n",
    "        X[j][i] = X[j][i] - col_mean[i]\n",
    "        X[j][i] = X[j][i] / col_std[i]\n",
    "y = dataset[ : , -1]"
   ]
  },
  {
   "cell_type": "code",
   "execution_count": 4,
   "metadata": {},
   "outputs": [],
   "source": [
    "size_train = int((X.shape[0] * 3) / 4)\n",
    "train_X_indices = random.sample(range(0, 100), size_train)\n",
    "train_X, test_X, train_y, test_y = [], [], [], []\n",
    "for i in range(X.shape[0]) :\n",
    "    if(i in train_X_indices) :\n",
    "        train_X.append(X[i])\n",
    "        train_y.append(y[i])\n",
    "    else :\n",
    "        test_X.append(X[i])\n",
    "        test_y.append(y[i])\n",
    "train_X = np.array(train_X)\n",
    "test_X = np.array(test_X)\n",
    "train_y = np.array(train_y)\n",
    "test_y = np.array(test_y)"
   ]
  },
  {
   "cell_type": "code",
   "execution_count": 5,
   "metadata": {},
   "outputs": [],
   "source": [
    "count_iterations = 0\n",
    "alpha = 0.01\n",
    "reg_lambda = 0.03\n",
    "delta = 0.0000001\n",
    "m = float(train_X.shape[0])\n",
    "count_feature = (train_X.shape[1])\n",
    "theta = np.random.uniform(-1, 1, count_feature)"
   ]
  },
  {
   "cell_type": "code",
   "execution_count": 6,
   "metadata": {},
   "outputs": [],
   "source": [
    "def reg_cost_function(X, y) :\n",
    "    reg_val1 = np.dot(np.transpose(y), np.log(sig(input_net(X))))\n",
    "    reg_val2 = np.dot(np.transpose(1.0 - y), np.log(1.0 - sig(input_net(X))))\n",
    "    reg_val3 = (reg_lambda / (2.0 * m)) * (sum(np.square(theta[1:])))\n",
    "    return (-1.0 / m) * (reg_val1 + reg_val2) + reg_val3\n",
    "def input_net(X) :\n",
    "    return np.dot(X, theta)\n",
    "def sig(x) :\n",
    "    return 1.0 / (1.0 + np.exp(-x))\n",
    "def calc_gradient(X, y) :\n",
    "    reg_val1 = (1 / m) * np.dot(np.transpose(X), (sig(input_net(X)) - y))\n",
    "    reg_val2 = np.zeros(theta.shape)\n",
    "    reg_val2[1 : ] = (reg_lambda / m) * theta[1 : ]\n",
    "    return reg_val1 + reg_val2\n",
    "def reg_gradient_descent(X, y) :\n",
    "    vals_cost = []\n",
    "    list_ite = []\n",
    "    error_prev = -1\n",
    "    cost_prev = -1\n",
    "    global theta\n",
    "    global count_iterations\n",
    "    while True :\n",
    "        count_iterations = count_iterations + 1\n",
    "        list_ite.append(count_iterations)\n",
    "        theta = theta - alpha * calc_gradient(X, y)\n",
    "        cost_new = reg_cost_function(X, y)\n",
    "        vals_cost.append(cost_new)\n",
    "        if(cost_prev == -1) :\n",
    "            cost_prev = cost_new\n",
    "        else :\n",
    "            error_prev = cost_prev - cost_new\n",
    "            cost_prev = cost_new\n",
    "            if(error_prev <= delta) :\n",
    "                break\n",
    "    print(count_iterations)\n",
    "    plt.plot(list_ite, vals_cost)"
   ]
  },
  {
   "cell_type": "code",
   "execution_count": 7,
   "metadata": {},
   "outputs": [
    {
     "name": "stdout",
     "output_type": "stream",
     "text": [
      "26621\n",
      "Error :  0.20167054314694022\n",
      "Theta values:  [1.9054809  3.67120795 3.73248149]\n"
     ]
    },
    {
     "data": {
      "image/png": "[encoded data removed]",
      "text/plain": [
       "<Figure size 432x288 with 1 Axes>"
      ]
     },
     "metadata": {
      "needs_background": "light"
     },
     "output_type": "display_data"
    }
   ],
   "source": [
    "reg_gradient_descent(train_X, train_y)\n",
    "print('Error : ', reg_cost_function(train_X, train_y))\n",
    "print('Theta values: ', theta)"
   ]
  },
  {
   "cell_type": "code",
   "execution_count": 8,
   "metadata": {},
   "outputs": [],
   "source": [
    "admitted_x_vals = []\n",
    "n_admitted_x_vals = []\n",
    "admitted_y_vals = []\n",
    "n_y_admitted_vals = []\n",
    "for i in range(int(m)) :\n",
    "    if(train_y[i] == 1.0) :\n",
    "        admitted_x_vals.append(train_X[i][1])\n",
    "        admitted_y_vals.append(train_X[i][2])\n",
    "    else :\n",
    "        n_admitted_x_vals.append(train_X[i][1])\n",
    "        n_y_admitted_vals.append(train_X[i][2])"
   ]
  },
  {
   "cell_type": "code",
   "execution_count": 9,
   "metadata": {},
   "outputs": [
    {
     "data": {
      "text/plain": [
       "[<matplotlib.lines.Line2D at 0x1e684f1e748>]"
      ]
     },
     "execution_count": 9,
     "metadata": {},
     "output_type": "execute_result"
    },
    {
     "data": {
      "image/png": "[encoded data removed]",
      "text/plain": [
       "<Figure size 432x288 with 1 Axes>"
      ]
     },
     "metadata": {
      "needs_background": "light"
     },
     "output_type": "display_data"
    }
   ],
   "source": [
    "x_decision_vals = train_X[: , 1]\n",
    "y_decision_vals = -1.0 * ((theta[0] + theta[1] * x_decision_vals) / (theta[2]))\n",
    "plt.plot(admitted_x_vals, admitted_y_vals, 'ro')\n",
    "plt.plot(n_admitted_x_vals, n_y_admitted_vals, 'bo')\n",
    "plt.plot(x_decision_vals, y_decision_vals, 'g')"
   ]
  },
  {
   "cell_type": "code",
   "execution_count": 10,
   "metadata": {},
   "outputs": [
    {
     "name": "stdout",
     "output_type": "stream",
     "text": [
      "Accuracy on train data : 89.33333333333333\n"
     ]
    }
   ],
   "source": [
    "correct_total = 0\n",
    "evaluated_train_data_vals = sig(input_net(train_X))\n",
    "for i in range(len(train_X)) :\n",
    "    if(train_y[i] == 1 and evaluated_train_data_vals[i] > 0.5) :\n",
    "        correct_total = correct_total + 1\n",
    "    elif(train_y[i] == 0 and evaluated_train_data_vals[i] < 0.5) :\n",
    "        correct_total = correct_total + 1\n",
    "print('Accuracy on train data :', (correct_total / train_X.shape[0]) * 100)"
   ]
  },
  {
   "cell_type": "code",
   "execution_count": 11,
   "metadata": {},
   "outputs": [
    {
     "name": "stdout",
     "output_type": "stream",
     "text": [
      "Accuracy on test data : 92.0\n"
     ]
    }
   ],
   "source": [
    "correct_total = 0\n",
    "evaluated_test_data_vals = sig(input_net(test_X))\n",
    "for i in range(len(test_X)) :\n",
    "    if(test_y[i] == 1 and evaluated_test_data_vals[i] >= 0.5) :\n",
    "        correct_total = correct_total + 1\n",
    "    elif(test_y[i] == 0 and evaluated_test_data_vals[i] < 0.5) :\n",
    "        correct_total = correct_total + 1\n",
    "print('Accuracy on test data :', (correct_total / test_X.shape[0]) * 100)"
   ]
  }
 ],
 "metadata": {
  "kernelspec": {
   "display_name": "Python 3",
   "language": "python",
   "name": "python3"
  },
  "language_info": {
   "codemirror_mode": {
    "name": "ipython",
    "version": 3
   },
   "file_extension": ".py",
   "mimetype": "text/x-python",
   "name": "python",
   "nbconvert_exporter": "python",
   "pygments_lexer": "ipython3",
   "version": "3.7.1"
  }
 },
 "nbformat": 4,
 "nbformat_minor": 2
}
