{
 "cells": [
  {
   "cell_type": "code",
   "execution_count": 1,
   "metadata": {},
   "outputs": [],
   "source": [
    "import numpy as np\n",
    "import matplotlib.pyplot as plt\n",
    "import csv\n",
    "import sys\n",
    "from sklearn.linear_model import LinearRegression"
   ]
  },
  {
   "cell_type": "code",
   "execution_count": 2,
   "metadata": {},
   "outputs": [],
   "source": [
    "def extract_data() :\n",
    "    X = []\n",
    "    Y = []\n",
    "    data_file = open(\"housing.csv\")\n",
    "    data_reader = csv.reader(data_file)\n",
    "    row_count = 0\n",
    "    for row in data_reader :\n",
    "        row_count += 1\n",
    "        if(row_count != 1) :\n",
    "            Y.append(float(row[1]))\n",
    "            data_row = [float(1)]\n",
    "            for i in range(2, len(row)) :\n",
    "                if(row[i] == \"yes\" or row[i] == \"no\") :\n",
    "                    if(row[i] == \"yes\") :\n",
    "                        data_row.append(float(1))\n",
    "                    else :\n",
    "                        data_row.append(float(0))\n",
    "                else :\n",
    "                    data_row.append(float(row[i]))\n",
    "            X.append(data_row)\n",
    "    \n",
    "    X = np.array(X)\n",
    "    Y = np.array(Y)\n",
    "    return X, Y"
   ]
  },
  {
   "cell_type": "code",
   "execution_count": 3,
   "metadata": {},
   "outputs": [],
   "source": [
    "X, Y = extract_data()\n",
    "theta = np.zeros(X.shape[1])\n",
    "lambda_reg = 0.00025"
   ]
  },
  {
   "cell_type": "code",
   "execution_count": 4,
   "metadata": {},
   "outputs": [],
   "source": [
    "alpha = 0.001\n",
    "delta = 0.001\n",
    "vals_std = np.std(X, axis=0)\n",
    "vals_mean = np.mean(X, axis=0)\n",
    "for i in range(X.shape[0]) :\n",
    "    for j in range(X.shape[1]) :\n",
    "        if(vals_std[j] != 0) :\n",
    "            X[i][j] = X[i][j] - vals_mean[j]\n",
    "            X[i][j] = X[i][j] / vals_std[j]"
   ]
  },
  {
   "cell_type": "code",
   "execution_count": 5,
   "metadata": {},
   "outputs": [],
   "source": [
    "def reg_gradient_descent(X, Y, theta, alpha, delta, lambda_reg) :\n",
    "    cost_reg = [reg_cost_function(X, Y, theta, lambda_reg)]\n",
    "    reg_iterations = [1]\n",
    "    m = float(X.shape[0])\n",
    "    count_iteration = 2\n",
    "    while(True):\n",
    "        term_reg = (lambda_reg / m) * theta\n",
    "        term_reg[0] = 0\n",
    "        theta = theta - ((alpha / m) * np.dot(np.transpose(X), np.dot(X, theta) - Y) + term_reg)\n",
    "        cost_current = reg_cost_function(X, Y, theta, lambda_reg)\n",
    "        cost_prev = cost_reg[count_iteration - 2]\n",
    "        cost_reg.append(cost_current)\n",
    "        reg_iterations.append(count_iteration)\n",
    "        if(cost_prev - cost_current <= delta) :\n",
    "            break\n",
    "        count_iteration = count_iteration + 1\n",
    "    graph_display(cost_reg, reg_iterations) \n",
    "    return theta\n",
    "def graph_display(costs, iterations) :\n",
    "    print(\"Iterations Count : \", iterations[-1])\n",
    "    print(\"Cost : \", costs[-1])\n",
    "    plt.plot(iterations, costs)\n",
    "def reg_init_theta(X) :\n",
    "    return np.zeros(X.shape[1])\n",
    "def reg_normal_equation(X, Y, lambda_reg) :\n",
    "    term_reg = np.zeros((X.shape[1], X.shape[1]))\n",
    "    for i in range(1, X.shape[1]) :\n",
    "        term_reg[i][i] = lambda_reg \n",
    "    return np.dot(np.linalg.inv(np.dot(np.transpose(X), X) + term_reg), np.dot(np.transpose(X), Y))\n",
    "def reg_cost_function(X, Y, theta, lambda_reg) :\n",
    "    m = float(X.shape[0])\n",
    "    sum_reg = (lambda_reg / (float(2) * m)) * np.sum(np.square(theta[1:]))\n",
    "    return (float(1) / (float(2) * m)) * float(np.dot(np.transpose(np.dot(X, theta) - Y) , np.dot(X, theta) - Y)) + sum_reg"
   ]
  },
  {
   "cell_type": "code",
   "execution_count": 6,
   "metadata": {},
   "outputs": [
    {
     "name": "stdout",
     "output_type": "stream",
     "text": [
      "Iterations Count :  18642\n",
      "Cost :  116323395.60464975\n",
      "Theta values:  [68121.59652816  7678.75690636  1352.26974984  7189.94739908\n",
      "  5684.45181292  2328.40900684  1725.21246225  2598.33007529\n",
      "  2680.76454173  5876.27380775  3652.58217771  3968.60446529]\n"
     ]
    },
    {
     "data": {
      "image/png": "[encoded data removed]",
      "text/plain": [
       "<Figure size 432x288 with 1 Axes>"
      ]
     },
     "metadata": {
      "needs_background": "light"
     },
     "output_type": "display_data"
    }
   ],
   "source": [
    "theta = reg_init_theta(X)\n",
    "theta_LR_reg = reg_gradient_descent(X, Y, theta, alpha, delta, lambda_reg)\n",
    "print(\"Theta values: \", theta_LR_reg)"
   ]
  },
  {
   "cell_type": "code",
   "execution_count": 7,
   "metadata": {},
   "outputs": [
    {
     "name": "stdout",
     "output_type": "stream",
     "text": [
      "Cost:  116323378.54269795\n",
      "Theta values:  [68121.5970696   7681.90052904  1349.66168159  7192.11581214\n",
      "  5687.53881382  2327.66854324  1724.31539331  2600.30648789\n",
      "  2682.07092653  5877.42976373  3652.74931055  3969.33193691]\n"
     ]
    }
   ],
   "source": [
    "theta = reg_init_theta(X)\n",
    "normal_equation_LR_reg_theta = reg_normal_equation(X, Y, lambda_reg)\n",
    "print(\"Cost: \", reg_cost_function(X, Y, normal_equation_LR_reg_theta, lambda_reg))\n",
    "print(\"Theta values: \", normal_equation_LR_reg_theta)"
   ]
  }
 ],
 "metadata": {
  "kernelspec": {
   "display_name": "Python 3",
   "language": "python",
   "name": "python3"
  },
  "language_info": {
   "codemirror_mode": {
    "name": "ipython",
    "version": 3
   },
   "file_extension": ".py",
   "mimetype": "text/x-python",
   "name": "python",
   "nbconvert_exporter": "python",
   "pygments_lexer": "ipython3",
   "version": "3.7.1"
  }
 },
 "nbformat": 4,
 "nbformat_minor": 2
}
