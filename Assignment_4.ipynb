{
 "cells": [
  {
   "cell_type": "code",
   "execution_count": 23,
   "metadata": {},
   "outputs": [],
   "source": [
    "import docx\n",
    "import numpy as np\n",
    "%matplotlib inline\n",
    "import matplotlib.pyplot as plt\n",
    "import random"
   ]
  },
  {
   "cell_type": "code",
   "execution_count": 24,
   "metadata": {},
   "outputs": [],
   "source": [
    "def readtxt(filename):\n",
    "    doc = docx.Document(filename)\n",
    "    fullText = []\n",
    "    for para in doc.paragraphs:\n",
    "        tmp = para.text.split(\",\")\n",
    "        fullText.append(tmp)\n",
    "    fullText = fullText[2 : len(fullText) - 1]\n",
    "    return fullText\n",
    "dataset = readtxt(\"dataset_exam.docx\")\n",
    "for i in range(len(dataset)) :\n",
    "    for j in range(len(dataset[0])) :\n",
    "        dataset[i][j] = float(dataset[i][j])\n",
    "dataset = np.array(dataset)"
   ]
  },
  {
   "cell_type": "code",
   "execution_count": 25,
   "metadata": {},
   "outputs": [],
   "source": [
    "X = dataset[ : , : -1]\n",
    "X_0 = np.ones((X.shape[0], 1))\n",
    "X = np.hstack((X_0, X))\n",
    "mean_col = np.mean(X, axis=0)\n",
    "std_col = np.std(X, axis=0)\n",
    "for i in range(1, X.shape[1]) :\n",
    "    for j in range(X.shape[0]) :\n",
    "        X[j][i] = X[j][i] - mean_col[i]\n",
    "        X[j][i] = X[j][i] / std_col[i]\n",
    "y = dataset[ : , -1]"
   ]
  },
  {
   "cell_type": "code",
   "execution_count": 26,
   "metadata": {},
   "outputs": [],
   "source": [
    "train_size = int((X.shape[0] * 3) / 4)\n",
    "X_train_indices = random.sample(range(0, 100), train_size)\n",
    "X_train, X_test, y_train, y_test = [], [], [], []\n",
    "for i in range(X.shape[0]) :\n",
    "    if(i in X_train_indices) :\n",
    "        X_train.append(X[i])\n",
    "        y_train.append(y[i])\n",
    "    else :\n",
    "        X_test.append(X[i])\n",
    "        y_test.append(y[i])    \n",
    "X_train = np.array(X_train)\n",
    "X_test = np.array(X_test)\n",
    "y_train = np.array(y_train)\n",
    "y_test = np.array(y_test)"
   ]
  },
  {
   "cell_type": "code",
   "execution_count": 27,
   "metadata": {},
   "outputs": [],
   "source": [
    "m = float(X_train.shape[0])\n",
    "feature_count = (X_train.shape[1])\n",
    "lambda_reg = 0.03\n",
    "error_threshold = 0.0000001\n",
    "theta = np.random.uniform(-1, 1, feature_count)\n",
    "iterations = 0"
   ]
  },
  {
   "cell_type": "code",
   "execution_count": 28,
   "metadata": {},
   "outputs": [],
   "source": [
    "def sigmoid(x) :\n",
    "    return 1.0 / (1.0 + np.exp(-x))\n",
    "def net_input(X) :\n",
    "    return np.dot(X, theta)\n",
    "def cost_function_reg(X, y) :\n",
    "    val1 = np.dot(np.transpose(y), np.log(sigmoid(net_input(X))))\n",
    "    val2 = np.dot(np.transpose(1.0 - y), np.log(1.0 - sigmoid(net_input(X))))\n",
    "    val3 = (lambda_reg / (2.0 * m)) * (sum(np.square(theta[1:])))\n",
    "    return (-1.0 / m) * (val1 + val2) + val3\n",
    "def gradient_calc(X, y) :\n",
    "    val1 = (1 / m) * np.dot(np.transpose(X), (sigmoid(net_input(X)) - y))\n",
    "    val2 = np.zeros(theta.shape)\n",
    "    val2[1 : ] = (lambda_reg / m) * theta[1 : ]\n",
    "    return val1 + val2\n",
    "def double_grad_calc(X, y) :\n",
    "    S = np.zeros((X.shape[0], X.shape[0]))\n",
    "    for i in range(X.shape[0]) :\n",
    "        S[i][i] = sigmoid(net_input(X[i])) * (1 - sigmoid(net_input(X[i])))    \n",
    "    val1 = np.dot(np.dot(np.transpose(X), S), X)\n",
    "    val2 = np.zeros((X.shape[1], X.shape[1]))\n",
    "    for i in range(1, X.shape[1]) :\n",
    "        val2[i][i] = lambda_reg\n",
    "    return val1 + val2\n",
    "def newton_method(X, y) :\n",
    "    cost_vals = [cost_function_reg(X, y)]\n",
    "    iterations = [1]  \n",
    "    iteration_count = 2\n",
    "    flag = 0\n",
    "    global theta\n",
    "    while True:\n",
    "        second_derivative = double_grad_calc(X, y)\n",
    "        first_derivative = gradient_calc(X, y)\n",
    "        theta = theta - np.dot(np.linalg.inv(second_derivative), first_derivative)\n",
    "        current_cost = cost_function_reg(X, y)\n",
    "        iterations.append(iteration_count)\n",
    "        cost_vals.append(current_cost)\n",
    "        prev_cost = cost_vals[iteration_count - 2]\n",
    "        if(flag == 0) :\n",
    "            flag = 1\n",
    "        else :\n",
    "            tmp = np.absolute(first_derivative - prev_derivative)\n",
    "            if(tmp.all() <= error_threshold) :\n",
    "                break\n",
    "        prev_derivative = first_derivative\n",
    "        iteration_count += 1\n",
    "    print(\"Total iterations taken: \", iteration_count)\n",
    "    plt.plot(iterations, cost_vals)"
   ]
  },
  {
   "cell_type": "code",
   "execution_count": 29,
   "metadata": {},
   "outputs": [
    {
     "name": "stdout",
     "output_type": "stream",
     "text": [
      "Total iterations taken:  2299\n",
      "Final error values training newton :  0.15975354575107556\n",
      "Final theta values training newton :  [2.49175168 4.34578842 5.13252527]\n"
     ]
    },
    {
     "data": {
      "image/png": "[encoded data removed]",
      "text/plain": [
       "<Figure size 432x288 with 1 Axes>"
      ]
     },
     "metadata": {
      "needs_background": "light"
     },
     "output_type": "display_data"
    }
   ],
   "source": [
    "theta = np.random.uniform(-1, 1, feature_count)\n",
    "newton_method(X_train, y_train)\n",
    "print(\"Final error values training newton : \", cost_function_reg(X_train, y_train))\n",
    "print(\"Final theta values training newton : \", theta)"
   ]
  },
  {
   "cell_type": "code",
   "execution_count": 30,
   "metadata": {},
   "outputs": [],
   "source": [
    "x_admitted_vals = []\n",
    "x_n_admitted_vals = []\n",
    "y_admitted_vals = []\n",
    "y_n_admitted_vals = []\n",
    "for i in range(int(m)) :\n",
    "    if(y_train[i] == 1.0) :\n",
    "        x_admitted_vals.append(X_train[i][1])\n",
    "        y_admitted_vals.append(X_train[i][2])\n",
    "    else :\n",
    "        x_n_admitted_vals.append(X_train[i][1])\n",
    "        y_n_admitted_vals.append(X_train[i][2])"
   ]
  },
  {
   "cell_type": "code",
   "execution_count": 31,
   "metadata": {},
   "outputs": [
    {
     "data": {
      "text/plain": [
       "[<matplotlib.lines.Line2D at 0x1a42cfb9e10>]"
      ]
     },
     "execution_count": 31,
     "metadata": {},
     "output_type": "execute_result"
    },
    {
     "data": {
      "image/png": "[encoded data removed]",
      "text/plain": [
       "<Figure size 432x288 with 1 Axes>"
      ]
     },
     "metadata": {
      "needs_background": "light"
     },
     "output_type": "display_data"
    }
   ],
   "source": [
    "decision_x_vals = X_train[: , 1]\n",
    "decision_y_vals = -1.0 * ((theta[0] + theta[1] * decision_x_vals) / (theta[2]))\n",
    "plt.plot(x_admitted_vals, y_admitted_vals, 'ro')\n",
    "plt.plot(x_n_admitted_vals, y_n_admitted_vals, 'go')\n",
    "plt.plot(decision_x_vals, decision_y_vals, 'b')"
   ]
  },
  {
   "cell_type": "code",
   "execution_count": 32,
   "metadata": {},
   "outputs": [
    {
     "name": "stdout",
     "output_type": "stream",
     "text": [
      "% accuracy for train data is  90.66666666666666\n"
     ]
    }
   ],
   "source": [
    "total_correct = 0\n",
    "train_data_evaluated_vals = sigmoid(net_input(X_train))\n",
    "for i in range(len(X_train)) :\n",
    "    if(y_train[i] == 1 and train_data_evaluated_vals[i] >= 0.5) :\n",
    "        total_correct = total_correct + 1\n",
    "    elif(y_train[i] == 0 and train_data_evaluated_vals[i] < 0.5) :\n",
    "        total_correct = total_correct + 1\n",
    "print('% accuracy for train data is ', (total_correct / X_train.shape[0]) * 100)"
   ]
  },
  {
   "cell_type": "code",
   "execution_count": 33,
   "metadata": {},
   "outputs": [
    {
     "name": "stdout",
     "output_type": "stream",
     "text": [
      "% accuracy for test data is  84.0\n"
     ]
    }
   ],
   "source": [
    "total_correct = 0\n",
    "test_data_evaluated_vals = sigmoid(net_input(X_test))\n",
    "for i in range(len(X_test)) :\n",
    "    if(y_test[i] == 1 and test_data_evaluated_vals[i] >= 0.5) :\n",
    "        total_correct = total_correct + 1\n",
    "    elif(y_test[i] == 0 and test_data_evaluated_vals[i] < 0.5) :\n",
    "        total_correct = total_correct + 1\n",
    "\n",
    "print('% accuracy for test data is ', (total_correct / X_test.shape[0]) * 100)"
   ]
  }
 ],
 "metadata": {
  "kernelspec": {
   "display_name": "Python 3",
   "language": "python",
   "name": "python3"
  },
  "language_info": {
   "codemirror_mode": {
    "name": "ipython",
    "version": 3
   },
   "file_extension": ".py",
   "mimetype": "text/x-python",
   "name": "python",
   "nbconvert_exporter": "python",
   "pygments_lexer": "ipython3",
   "version": "3.7.1"
  }
 },
 "nbformat": 4,
 "nbformat_minor": 2
}
