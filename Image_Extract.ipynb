{
 "cells": [
  {
   "cell_type": "code",
   "execution_count": null,
   "metadata": {},
   "outputs": [],
   "source": [
    "import matplotlib.pyplot as plt\n",
    "import numpy as np\n",
    "import os \n",
    "import sys\n",
    "from PIL import Image\n",
    "import random\n",
    "import cv2\n",
    "import functools\n",
    "from copy import deepcopy\n",
    "from sklearn.linear_model import LogisticRegression"
   ]
  },
  {
   "cell_type": "code",
   "execution_count": null,
   "metadata": {},
   "outputs": [],
   "source": [
    "new_image_height = 40\n",
    "new_image_width = 40\n",
    "old_directory = \"dataset/Edited\"\n",
    "new_directory = \"dataset/Reduced\""
   ]
  },
  {
   "cell_type": "code",
   "execution_count": null,
   "metadata": {},
   "outputs": [],
   "source": [
    "c = 0\n",
    "for file in os.listdir(old_directory) :\n",
    "    if(file != \".DS_Store\") :\n",
    "        old_image_path = os.path.join(old_directory, file)\n",
    "        old_image = Image.open(old_image_path)\n",
    "        old_image = old_image.resize((new_image_height, new_image_width), Image.ANTIALIAS)\n",
    "        new_image_path = os.path.join(new_directory, file)\n",
    "        old_image.save(new_image_path)"
   ]
  },
  {
   "cell_type": "code",
   "execution_count": null,
   "metadata": {},
   "outputs": [],
   "source": [
    "Y = []\n",
    "Y_values = {}\n",
    "Y_inverse_values = {}\n",
    "X = []\n",
    "for file in os.listdir(new_directory) :\n",
    "    if(file != \".DS_Store\") :\n",
    "        im = cv2.imread(os.path.join(new_directory, file))\n",
    "        im = cv2.cvtColor(im, cv2.COLOR_BGR2GRAY)\n",
    "        im = im.flatten()\n",
    "        X.append(im)\n",
    "        label_name = file.split(\"_\")[0]\n",
    "        if(label_name not in Y_values) :\n",
    "            new_val = len(Y_values) + 1\n",
    "            Y_values[label_name] = new_val\n",
    "            Y_inverse_values[new_val] = label_name\n",
    "        Y.append(Y_values[label_name])\n",
    "        \n",
    "X = np.array(X)\n",
    "Y = np.array(Y)"
   ]
  },
  {
   "cell_type": "code",
   "execution_count": null,
   "metadata": {},
   "outputs": [],
   "source": [
    "mean_intensities = np.mean(X, axis=0)"
   ]
  },
  {
   "cell_type": "code",
   "execution_count": null,
   "metadata": {},
   "outputs": [],
   "source": [
    "X_train = []\n",
    "X_test = []\n",
    "Y_train = []\n",
    "Y_test = []\n",
    "training_perc = 75 \n",
    "sample_size = int((training_perc / float(100)) * X.shape[0])\n",
    "training_indices = random.sample(range(0, X.shape[0]), sample_size)\n",
    "for i in range(X.shape[0]) :\n",
    "    if(i in training_indices) :\n",
    "        X_train.append(X[i])\n",
    "        Y_train.append(Y[i])\n",
    "    else :\n",
    "        X_test.append(X[i])\n",
    "        Y_test.append(Y[i])\n",
    "        \n",
    "X_train = np.array(X_train)\n",
    "Y_train = np.array(Y_train)\n",
    "X_test = np.array(X_test)\n",
    "Y_test = np.array(Y_test)"
   ]
  },
  {
   "cell_type": "code",
   "execution_count": null,
   "metadata": {},
   "outputs": [],
   "source": [
    "mean_intensities = np.mean(X_train)\n",
    "X_train = X_train - mean_intensities"
   ]
  },
  {
   "cell_type": "code",
   "execution_count": null,
   "metadata": {},
   "outputs": [],
   "source": [
    "X_test_original = deepcopy(X_test)\n",
    "mean_intensities = np.mean(X_test)\n",
    "X_test = X_test - mean_intensities"
   ]
  }
 ],
 "metadata": {
  "kernelspec": {
   "display_name": "Python 3",
   "language": "python",
   "name": "python3"
  },
  "language_info": {
   "codemirror_mode": {
    "name": "ipython",
    "version": 3
   },
   "file_extension": ".py",
   "mimetype": "text/x-python",
   "name": "python",
   "nbconvert_exporter": "python",
   "pygments_lexer": "ipython3",
   "version": "3.7.1"
  }
 },
 "nbformat": 4,
 "nbformat_minor": 2
}
