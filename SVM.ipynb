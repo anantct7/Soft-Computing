{
 "cells": [
  {
   "cell_type": "code",
   "execution_count": 13,
   "metadata": {},
   "outputs": [],
   "source": [
    "import numpy as np\n",
    "import matplotlib.pyplot as plt\n",
    "import tensorflow as tf\n",
    "import random\n",
    "import import_ipynb\n",
    "import data_extract"
   ]
  },
  {
   "cell_type": "code",
   "execution_count": 14,
   "metadata": {},
   "outputs": [],
   "source": [
    "%run data_extract.ipynb\n",
    "def kernel_linear(x1, x2) :\n",
    "    return np.matmul(np.transpose(x1), x2)\n",
    "def kernel_polynomial(x1, x2, d=2) :\n",
    "    return (np.matmul(np.transpose(x1), x2) + float(1)) ** d\n",
    "def kernel_RBF(x1, x2, sigma=5) :\n",
    "    return np.exp(- np.sum( np.power((x1 - x2),2) ) / float( 2*(sigma**2) ) )"
   ]
  },
  {
   "cell_type": "code",
   "execution_count": 15,
   "metadata": {},
   "outputs": [],
   "source": [
    "def objective_function(train_X, train_Y, alpha, b, kernel, input_X) :\n",
    "    ans = 0\n",
    "    for i in range(train_X.shape[0]) :\n",
    "        Val = alpha[i] * train_Y[i] * kernel(train_X[i], input_X)\n",
    "        ans = ans + Val\n",
    "    ans = ans + b\n",
    "    return ans\n",
    "def simplified_objective_function(train_Y, alpha, b, matrix_kernel, index) :\n",
    "    ans = 0\n",
    "    for i in range(train_Y.shape[0]) :\n",
    "        Val = alpha[i] * train_Y[i] * matrix_kernel[i][index]\n",
    "        ans = ans + Val\n",
    "    ans = ans + b\n",
    "    return ans\n",
    "def get_eta(i, j, matrix_kernel) :\n",
    "    return (2 * matrix_kernel[i][j] - matrix_kernel[i][i] - matrix_kernel[j][j])\n",
    "def get_matrix_kernel(train_X, kernel) :\n",
    "    matrix_kernel = np.zeros((train_X.shape[0], train_X.shape[0]))\n",
    "    for i in range(train_X.shape[0]) :\n",
    "        for j in range(train_X.shape[0]) :\n",
    "            matrix_kernel[i][j] = kernel(train_X[i], train_X[j])\n",
    "    return matrix_kernel"
   ]
  },
  {
   "cell_type": "code",
   "execution_count": 16,
   "metadata": {},
   "outputs": [],
   "source": [
    "matrix_kernel = get_matrix_kernel(train_X, kernel_RBF)"
   ]
  },
  {
   "cell_type": "code",
   "execution_count": 17,
   "metadata": {},
   "outputs": [],
   "source": [
    "tol = 0.00001\n",
    "err = 0.00001\n",
    "C = float(50)\n",
    "alpha = np.zeros(train_X.shape[0])\n",
    "b = float(0)\n",
    "max_passes = 5"
   ]
  },
  {
   "cell_type": "code",
   "execution_count": 18,
   "metadata": {},
   "outputs": [],
   "source": [
    "#reference-http://cs229.stanford.edu/materials/smo.pdf\n",
    "passes = 0\n",
    "while(passes < max_passes) :\n",
    "    num_changed_alphas = 0\n",
    "    for i in range(train_X.shape[0]) :\n",
    "        error_i = simplified_objective_function(train_Y, alpha, b, matrix_kernel, i) - train_Y[i]\n",
    "        if((train_Y[i] * error_i < float(-1 * tol) and alpha[i] < C) or (train_Y[i] * error_i > tol and alpha[i] > 0)) :\n",
    "            j = i\n",
    "            while(j == i) :\n",
    "                j = np.random.randint(0, train_X.shape[0])\n",
    "            error_j = simplified_objective_function(train_Y, alpha, b, matrix_kernel, j) - train_Y[j]\n",
    "            alpha_i_old = alpha[i]\n",
    "            alpha_j_old = alpha[j]\n",
    "            if(train_Y[i] != train_Y[j]) :\n",
    "                L = max(float(0), alpha[j] - alpha[i])\n",
    "                H = min(C, C + alpha[j] - alpha[i])\n",
    "            else :\n",
    "                L = max(0, alpha[i] + alpha[j] - C)\n",
    "                H = min(C, alpha[i] + alpha[j])\n",
    "            if(L == H) :\n",
    "                continue\n",
    "            eta = get_eta(i, j, matrix_kernel)\n",
    "            if(eta == 0) :\n",
    "                continue\n",
    "            alpha_j_new = alpha_j_old - float((train_Y[j] * (error_i - error_j)) / eta)\n",
    "            if(alpha_j_new > H) :\n",
    "                alpha_j_new = H\n",
    "            if(alpha_j_new < L) :\n",
    "                alpha_j_new = L\n",
    "            if(np.abs(alpha_j_new - alpha_j_old) < err) :\n",
    "                continue\n",
    "            alpha_i_new = alpha_i_old + (train_Y[i] * train_Y[j] * (alpha_j_old - alpha_j_new))\n",
    "            alpha[i] = alpha_i_new\n",
    "            alpha[j] = alpha_j_new\n",
    "            b1 = b - error_i - (train_Y[i] * (alpha_i_new - alpha_i_old) * matrix_kernel[i][i]) - (train_Y[j] * (alpha_j_new - alpha_j_old) * matrix_kernel[i][j])\n",
    "            b2 = b - error_j - (train_Y[i] * (alpha_i_new - alpha_i_old) * matrix_kernel[i][j]) - (train_Y[j] * (alpha_j_new - alpha_j_old) * matrix_kernel[j][j])\n",
    "            if(alpha_i_new > 0 and alpha_i_new < C) :\n",
    "                b = b1\n",
    "            elif(alpha_j_new > 0 and alpha_j_new < C) :\n",
    "                b = b2\n",
    "            else :\n",
    "                b = float((b1 + b2) / float(2))  \n",
    "            num_changed_alphas += 1\n",
    "    if(num_changed_alphas == 0) :\n",
    "        passes += 1\n",
    "    else :\n",
    "        passes = 0"
   ]
  },
  {
   "cell_type": "code",
   "execution_count": 19,
   "metadata": {},
   "outputs": [],
   "source": [
    "correct_total = 0\n",
    "for i in range(train_X.shape[0]) :\n",
    "    Val = objective_function(train_X, train_Y, alpha, b, kernel_RBF, train_X[i])\n",
    "    if(Val >= 0 and train_Y[i] == 1) :\n",
    "        correct_total += 1\n",
    "    elif(Val < 0 and train_Y[i] == -1) :\n",
    "        correct_total += 1"
   ]
  },
  {
   "cell_type": "code",
   "execution_count": 20,
   "metadata": {},
   "outputs": [
    {
     "name": "stdout",
     "output_type": "stream",
     "text": [
      "Accuracy :  100.0\n"
     ]
    }
   ],
   "source": [
    "print(\"Accuracy : \", (correct_total / train_X.shape[0]) * 100 )"
   ]
  },
  {
   "cell_type": "code",
   "execution_count": 21,
   "metadata": {},
   "outputs": [],
   "source": [
    "correct_total = 0\n",
    "for i in range(validation_X.shape[0]) :\n",
    "    Val = objective_function(train_X, train_Y, alpha, b, kernel_RBF, validation_X[i])\n",
    "    if(Val >= 0 and validation_Y[i] == 1) :\n",
    "        correct_total += 1\n",
    "    elif(Val < 0 and validation_Y[i] == -1) :\n",
    "        correct_total += 1"
   ]
  },
  {
   "cell_type": "code",
   "execution_count": 22,
   "metadata": {},
   "outputs": [
    {
     "name": "stdout",
     "output_type": "stream",
     "text": [
      "Accuracy :  98.49849849849849\n"
     ]
    }
   ],
   "source": [
    "print(\"Accuracy : \", (correct_total / validation_X.shape[0]) * 100 )"
   ]
  },
  {
   "cell_type": "code",
   "execution_count": 23,
   "metadata": {},
   "outputs": [],
   "source": [
    "correct_total = 0\n",
    "for i in range(test_X.shape[0]) :\n",
    "    Val = objective_function(train_X, train_Y, alpha, b, kernel_RBF, test_X[i])\n",
    "    if(Val >= 0 and test_Y[i] == 1) :\n",
    "        correct_total += 1\n",
    "    elif(Val < 0 and test_Y[i] == -1) :\n",
    "        correct_total += 1"
   ]
  },
  {
   "cell_type": "code",
   "execution_count": 24,
   "metadata": {},
   "outputs": [
    {
     "name": "stdout",
     "output_type": "stream",
     "text": [
      "Accuracy :  98.49849849849849\n"
     ]
    }
   ],
   "source": [
    "print(\"Accuracy : \", (correct_total / test_X.shape[0]) * 100 )"
   ]
  },
  {
   "cell_type": "code",
   "execution_count": 26,
   "metadata": {},
   "outputs": [
    {
     "data": {
      "text/plain": [
       "Text(0.5, 1.0, 'ROC Curve')"
      ]
     },
     "execution_count": 26,
     "metadata": {},
     "output_type": "execute_result"
    },
    {
     "data": {
      "image/png": "[encoded data removed]",
      "text/plain": [
       "<Figure size 432x288 with 1 Axes>"
      ]
     },
     "metadata": {
      "needs_background": "light"
     },
     "output_type": "display_data"
    }
   ],
   "source": [
    "x_val = []\n",
    "y_val = []\n",
    "vals = np.zeros(validation_X.shape[0])\n",
    "for i in range(validation_X.shape[0]) :\n",
    "    vals[i] = objective_function(train_X, train_Y, alpha, b, kernel_RBF, validation_X[i])\n",
    "for n in np.linspace(-5, 5, 1000) :\n",
    "    tp, fp, fn, tn = 0, 0, 0, 0\n",
    "    for i in range(validation_X.shape[0]) :\n",
    "        val = vals[i]\n",
    "        if(val >= n) :\n",
    "            if(validation_Y[i] == 1) :\n",
    "                tp += 1\n",
    "            else :\n",
    "                fp += 1\n",
    "        else :\n",
    "            if(validation_Y[i] == 1) :\n",
    "                fn += 1\n",
    "            else :\n",
    "                tn += 1  \n",
    "    tpr = float(tp) / float(tp + fn)\n",
    "    fpr = float(fp) / float(fp + tn)\n",
    "    x_val.append(fpr)\n",
    "    y_val.append(tpr)\n",
    "x_val.reverse()\n",
    "y_val.reverse()\n",
    "plt.plot(x_val, y_val)\n",
    "plt.xlabel(\"False positive rate\")\n",
    "plt.ylabel(\"True positive rate\")\n",
    "plt.title(\"ROC Curve\")"
   ]
  }
 ],
 "metadata": {
  "kernelspec": {
   "display_name": "Python 3",
   "language": "python",
   "name": "python3"
  },
  "language_info": {
   "codemirror_mode": {
    "name": "ipython",
    "version": 3
   },
   "file_extension": ".py",
   "mimetype": "text/x-python",
   "name": "python",
   "nbconvert_exporter": "python",
   "pygments_lexer": "ipython3",
   "version": "3.7.1"
  }
 },
 "nbformat": 4,
 "nbformat_minor": 2
}
