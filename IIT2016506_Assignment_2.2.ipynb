{
 "cells": [
  {
   "cell_type": "code",
   "execution_count": 1,
   "metadata": {},
   "outputs": [],
   "source": [
    "import numpy as np\n",
    "import matplotlib.pyplot as plt\n",
    "import csv\n",
    "import sys\n",
    "from sklearn.linear_model import LinearRegression"
   ]
  },
  {
   "cell_type": "code",
   "execution_count": 2,
   "metadata": {},
   "outputs": [],
   "source": [
    "def data_pre() :\n",
    "    X = []\n",
    "    Y = []\n",
    "    data_file = open(\"housing.csv\")\n",
    "    data_reader = csv.reader(data_file)\n",
    "    tuple_count = 0\n",
    "    for Tuple in data_reader :\n",
    "        tuple_count += 1\n",
    "        if(tuple_count != 1) :\n",
    "            Y.append(float(Tuple[1]))\n",
    "            data_tuple = [float(1)]\n",
    "            for i in range(2, len(Tuple)) :\n",
    "                if(Tuple[i] == \"yes\" or Tuple[i] == \"no\") :\n",
    "                    if(Tuple[i] == \"yes\") :\n",
    "                        data_tuple.append(float(1))\n",
    "                    else :\n",
    "                        data_tuple.append(float(0))\n",
    "                else :\n",
    "                    data_tuple.append(float(Tuple[i]))\n",
    "            X.append(data_tuple)\n",
    "    X = np.array(X)\n",
    "    Y = np.array(Y)\n",
    "    return X, Y"
   ]
  },
  {
   "cell_type": "code",
   "execution_count": 3,
   "metadata": {},
   "outputs": [],
   "source": [
    "def CostLWR(X, Y, theta, W, lambda_reg):\n",
    "    m = float(X.shape[0])\n",
    "    sum_reg = (lambda_reg / (float(2) * m)) * np.sum(np.square(theta[1:]))\n",
    "    return np.dot(np.dot(np.transpose(np.dot(X, theta) - Y), W), (np.dot(X, theta) - Y)) + sum_reg\n",
    "def LWR_getWeights(X, var_input, BandLWR) :\n",
    "    m = (X.shape[0])\n",
    "    Weights = np.zeros((m, m))\n",
    "    for i in range(m) :\n",
    "        Weights[i][i] = np.exp(float(-1/2) * np.dot(np.transpose(X[i] - var_input), (X[i] - var_input)) / (BandLWR * BandLWR))\n",
    "    return Weights\n",
    "def LWR_init_theta(X) :\n",
    "    return np.zeros(X.shape[1])\n",
    "def graph_display(LWR_costs, LWR_iterations) :\n",
    "    plt.plot(LWR_iterations, LWR_costs)\n",
    "def Normal_LWR(X, W, Y) :\n",
    "    term_reg=np.zeros((X.shape[1],X.shape[1]))\n",
    "    for i in range(1,X.shape[1]) :\n",
    "        term_reg[i][i]=lambda_reg\n",
    "    LWR_val1 = np.linalg.inv(np.dot(np.dot(np.transpose(X), W), X)+term_reg)\n",
    "    LWR_val2 = np.dot(np.dot(np.transpose(X), W), Y)\n",
    "    return np.dot(LWR_val1, LWR_val2)\n",
    "def Gradient_Descent_LWR(X, Y, theta, alpha, W, delta, lambda_reg) :\n",
    "    LWR_costs = [CostLWR(X, Y, theta, W, lambda_reg)]\n",
    "    LWR_iterations = [1]\n",
    "    m = float(X.shape[0])\n",
    "    LWR_iteration_count = 2\n",
    "    while(True):\n",
    "        term_reg = lambda_reg * theta\n",
    "        term_reg[0] = 0\n",
    "        theta = theta - (alpha / m) * (np.dot(np.dot(np.transpose(X), W), np.dot(X, theta) - Y) + term_reg)\n",
    "        LWR_current_cost = CostLWR(X, Y, theta, W, lambda_reg)\n",
    "        LWR_prev_cost = LWR_costs[LWR_iteration_count - 2]\n",
    "        if(LWR_iteration_count % 100 == 0) :\n",
    "            print(LWR_iteration_count, LWR_prev_cost, LWR_current_cost, LWR_prev_cost-LWR_current_cost)\n",
    "        LWR_costs.append(LWR_current_cost)\n",
    "        LWR_iterations.append(LWR_iteration_count)\n",
    "        if(LWR_prev_cost - LWR_current_cost <= delta) :\n",
    "            break\n",
    "        LWR_iteration_count = LWR_iteration_count + 1\n",
    "    print(\"Iterations Count: \",LWR_iteration_count)\n",
    "    graph_display(LWR_costs, LWR_iterations)\n",
    "    return theta"
   ]
  },
  {
   "cell_type": "code",
   "execution_count": 4,
   "metadata": {},
   "outputs": [],
   "source": [
    "X, Y = data_pre()\n",
    "theta = LWR_init_theta(X)\n",
    "lambda_reg = 1e-22"
   ]
  },
  {
   "cell_type": "code",
   "execution_count": 5,
   "metadata": {},
   "outputs": [],
   "source": [
    "alpha = 10000000000\n",
    "delta = 1e-30\n",
    "vals_std = np.std(X, axis=0)\n",
    "vals_mean = np.mean(X, axis=0)\n",
    "BandLWR = float(20 / 546)\n",
    "var_input = [1, 4000,2 ,1 ,1 ,1 ,1 ,0 ,0 ,0 ,0 ,0]\n",
    "for i in range(X.shape[0]) :\n",
    "    for j in range(X.shape[1]) :\n",
    "        if(vals_std[j] != 0) :\n",
    "            X[i][j] = X[i][j] - vals_mean[j]\n",
    "            X[i][j] = X[i][j] / vals_std[j]\n",
    "for i in range(X.shape[1]): \n",
    "    if(vals_std[i] != 0) :\n",
    "        var_input[i] = var_input[i] - vals_mean[i]\n",
    "        var_input[i] = var_input[i] / vals_std[i]"
   ]
  },
  {
   "cell_type": "code",
   "execution_count": 6,
   "metadata": {},
   "outputs": [
    {
     "name": "stdout",
     "output_type": "stream",
     "text": [
      "Cost:  0.0014490362489622119\n",
      "Theta values:  [ 3.379200e+04 -3.303125e+02 -1.280000e+02 -2.560000e+02  4.725000e+01\n",
      " -1.665000e+02  0.000000e+00  0.000000e+00 -1.275000e+01 -1.100000e+01\n",
      "  0.000000e+00  6.400000e+01]\n",
      "Value Predicted :  34144.29688021046\n"
     ]
    }
   ],
   "source": [
    "W = LWR_getWeights(X, var_input, BandLWR)\n",
    "Theta_LWR_Normal = Normal_LWR(X, W, Y)\n",
    "print(\"Cost: \", CostLWR(X, Y, Theta_LWR_Normal, W, lambda_reg))\n",
    "print(\"Theta values: \", Theta_LWR_Normal)\n",
    "print(\"Value Predicted : \", np.dot(np.transpose(var_input), Theta_LWR_Normal))"
   ]
  },
  {
   "cell_type": "code",
   "execution_count": 7,
   "metadata": {},
   "outputs": [
    {
     "name": "stdout",
     "output_type": "stream",
     "text": [
      "Iterations Count:  54\n",
      "Cost:  9.060006210999761e-18\n",
      "Theta values:  [ 3101.57188523 -2362.88555452 -4063.51498634 -1766.32905256\n",
      " -2888.0508516   1256.72655661  6672.96972752 -2275.01549192\n",
      "  -679.41165693 -2112.27513615 -2495.29173226 -1716.32170698]\n",
      "Value Predicted :  34454.59427890817\n"
     ]
    },
    {
     "data": {
      "image/png": "[encoded data removed]",
      "text/plain": [
       "<Figure size 432x288 with 1 Axes>"
      ]
     },
     "metadata": {
      "needs_background": "light"
     },
     "output_type": "display_data"
    }
   ],
   "source": [
    "Theta_LWR = Gradient_Descent_LWR(X, Y, theta, alpha, W, delta, lambda_reg)\n",
    "print(\"Cost: \", CostLWR(X, Y, Theta_LWR, W, lambda_reg))\n",
    "print(\"Theta values: \", Theta_LWR)\n",
    "print(\"Value Predicted : \", np.dot(np.transpose(var_input), Theta_LWR))"
   ]
  }
 ],
 "metadata": {
  "kernelspec": {
   "display_name": "Python 3",
   "language": "python",
   "name": "python3"
  },
  "language_info": {
   "codemirror_mode": {
    "name": "ipython",
    "version": 3
   },
   "file_extension": ".py",
   "mimetype": "text/x-python",
   "name": "python",
   "nbconvert_exporter": "python",
   "pygments_lexer": "ipython3",
   "version": "3.7.1"
  }
 },
 "nbformat": 4,
 "nbformat_minor": 2
}
