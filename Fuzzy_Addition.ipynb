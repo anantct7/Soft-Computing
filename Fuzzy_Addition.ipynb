{
 "cells": [
  {
   "cell_type": "code",
   "execution_count": 10,
   "metadata": {},
   "outputs": [],
   "source": [
    "import numpy as np"
   ]
  },
  {
   "cell_type": "code",
   "execution_count": 11,
   "metadata": {},
   "outputs": [],
   "source": [
    "A = np.array([\n",
    "    [2, 1],\n",
    "    [3, 0.5]\n",
    "])\n",
    "B = np.array([\n",
    "    [3, 1],\n",
    "    [4, 0.5]\n",
    "])"
   ]
  },
  {
   "cell_type": "code",
   "execution_count": 12,
   "metadata": {},
   "outputs": [],
   "source": [
    "z_vals = {}"
   ]
  },
  {
   "cell_type": "code",
   "execution_count": 13,
   "metadata": {},
   "outputs": [],
   "source": [
    "for i in range(A.shape[0]) :\n",
    "    for j in range(B.shape[0]) :\n",
    "        z = A[i][0] + B[j][0]\n",
    "        if(z in z_vals) :\n",
    "            arr = z_vals[z]\n",
    "            arr.append([i, j])\n",
    "            z_vals[z] = arr\n",
    "        else :\n",
    "            z_vals[z] = [[i, j]]\n"
   ]
  },
  {
   "cell_type": "code",
   "execution_count": 14,
   "metadata": {},
   "outputs": [
    {
     "data": {
      "text/plain": [
       "{5.0: [[0, 0]], 6.0: [[0, 1], [1, 0]], 7.0: [[1, 1]]}"
      ]
     },
     "execution_count": 14,
     "metadata": {},
     "output_type": "execute_result"
    }
   ],
   "source": [
    "z_vals"
   ]
  },
  {
   "cell_type": "code",
   "execution_count": 15,
   "metadata": {},
   "outputs": [],
   "source": [
    "Z = []"
   ]
  },
  {
   "cell_type": "code",
   "execution_count": 16,
   "metadata": {},
   "outputs": [],
   "source": [
    "for z in z_vals :\n",
    "    max_val = -1\n",
    "    for i in range(len(z_vals[z])) :\n",
    "        p = z_vals[z][i]\n",
    "        val = min(A[p[0]][1], B[p[1]][1])\n",
    "        if(max_val == -1 or max_val <  val)  :\n",
    "            max_val = val\n",
    "    Z.append([z, max_val])"
   ]
  },
  {
   "cell_type": "code",
   "execution_count": 17,
   "metadata": {},
   "outputs": [
    {
     "data": {
      "text/plain": [
       "[[5.0, 1.0], [6.0, 0.5], [7.0, 0.5]]"
      ]
     },
     "execution_count": 17,
     "metadata": {},
     "output_type": "execute_result"
    }
   ],
   "source": [
    "Z"
   ]
  }
 ],
 "metadata": {
  "kernelspec": {
   "display_name": "Python 3",
   "language": "python",
   "name": "python3"
  },
  "language_info": {
   "codemirror_mode": {
    "name": "ipython",
    "version": 3
   },
   "file_extension": ".py",
   "mimetype": "text/x-python",
   "name": "python",
   "nbconvert_exporter": "python",
   "pygments_lexer": "ipython3",
   "version": "3.7.1"
  }
 },
 "nbformat": 4,
 "nbformat_minor": 2
}
