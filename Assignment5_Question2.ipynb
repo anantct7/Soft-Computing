{
 "cells": [
  {
   "cell_type": "code",
   "execution_count": 1,
   "metadata": {},
   "outputs": [],
   "source": [
    "import numpy as np\n",
    "import matplotlib.pyplot as plt\n",
    "from PIL import Image\n",
    "from data import river_training_samples\n",
    "from data import non_river_training_samples"
   ]
  },
  {
   "cell_type": "code",
   "execution_count": 2,
   "metadata": {},
   "outputs": [],
   "source": [
    "Im, Im1, Im2, Im3 = Image.open('Images/1.gif', 'r'), Image.open('Images/2.gif', 'r'), Image.open('Images/3.gif', 'r'), Image.open('Images/4.gif', 'r')\n",
    "tmp, tmp1, tmp2, tmp3 = list(Im.getdata()), list(Im1.getdata()), list(Im2.getdata()), list(Im3.getdata())\n",
    "tmp = np.array(tmp).reshape(512, 512)\n",
    "tmp1 = np.array(tmp1).reshape(512, 512)\n",
    "tmp2 = np.array(tmp2).reshape(512, 512)\n",
    "tmp3 = np.array(tmp3).reshape(512, 512)\n",
    "All_data = []\n",
    "for i in range(512) :\n",
    "    Tmp = []\n",
    "    for j in range(512) :\n",
    "        Tmp1 = []\n",
    "        Tmp1.append(tmp[i][j])\n",
    "        Tmp1.append(tmp1[i][j])\n",
    "        Tmp1.append(tmp2[i][j])\n",
    "        Tmp1.append(tmp3[i][j])\n",
    "        Tmp1 = np.array(Tmp1)\n",
    "        Tmp.append(Tmp1)\n",
    "    Tmp = np.array(Tmp)\n",
    "    All_data.append(Tmp)\n",
    "All_data = np.array(All_data)"
   ]
  },
  {
   "cell_type": "code",
   "execution_count": 3,
   "metadata": {},
   "outputs": [],
   "source": [
    "data_training = np.vstack((river_training_samples, non_river_training_samples))"
   ]
  },
  {
   "cell_type": "code",
   "execution_count": 4,
   "metadata": {},
   "outputs": [],
   "source": [
    "Mean_0 = np.mean(non_river_training_samples, axis=0)\n",
    "Val0 = np.zeros(non_river_training_samples.shape)\n",
    "for i in range(non_river_training_samples.shape[0]) :\n",
    "    for j in range(non_river_training_samples.shape[1]) :\n",
    "        Val0[i][j] = non_river_training_samples[i][j] - Mean_0[j]\n",
    "cov_0 = (float(1) / float(non_river_training_samples.shape[0])) * np.dot(np.transpose(Val0), Val0)"
   ]
  },
  {
   "cell_type": "code",
   "execution_count": 5,
   "metadata": {},
   "outputs": [],
   "source": [
    "Mean_1 = np.mean(river_training_samples, axis=0)\n",
    "Val1 = np.zeros(river_training_samples.shape)\n",
    "for i in range(river_training_samples.shape[0]) :\n",
    "    for j in range(river_training_samples.shape[1]) :\n",
    "        Val1[i][j] = river_training_samples[i][j] - Mean_1[j]\n",
    "cov_1 = (float(1) / float(river_training_samples.shape[0])) * np.dot(np.transpose(Val1), Val1)"
   ]
  },
  {
   "cell_type": "code",
   "execution_count": 6,
   "metadata": {},
   "outputs": [],
   "source": [
    "Image_final = np.zeros((512, 512))"
   ]
  },
  {
   "cell_type": "code",
   "execution_count": 7,
   "metadata": {},
   "outputs": [],
   "source": [
    "for i in range(512) :\n",
    "    for j in range(512) :\n",
    "        data_modified = np.zeros(All_data[i][j].shape)\n",
    "        for k in range(data_modified.shape[0]) :\n",
    "            data_modified[k] = All_data[i][j][k] - Mean_1[k]\n",
    "        class_river = np.dot(np.dot(np.transpose((data_modified)), np.linalg.inv(cov_1)), data_modified)\n",
    "        prediction_river = (float(1) / ((float(2) * np.pi) ** 2)) * (float(1) / (np.sqrt(np.linalg.det(cov_1)))) * np.exp((float(-0.5)) * class_river)\n",
    "        data_modified = np.zeros(All_data[i][j].shape)\n",
    "        for k in range(data_modified.shape[0]) :\n",
    "            data_modified[k] = All_data[i][j][k] - Mean_0[k]\n",
    "        class_non_river = np.dot(np.dot(np.transpose((data_modified)), np.linalg.inv(cov_0)), data_modified)\n",
    "        prediction_non_river =  (float(1) / ((float(2) * np.pi) ** 2)) * (float(1) / (np.sqrt(np.linalg.det(cov_0)))) * np.exp((float(-0.5)) * class_non_river)\n",
    "        P1 = 0.7\n",
    "        P2 = 0.3\n",
    "        if(P1 * prediction_river >= P2 * prediction_non_river) :\n",
    "            Image_final[i][j] = 0\n",
    "        else :\n",
    "            Image_final[i][j] = 255"
   ]
  },
  {
   "cell_type": "code",
   "execution_count": 8,
   "metadata": {},
   "outputs": [],
   "source": [
    "Im = Image.fromarray(Image_final)\n",
    "Im.show()"
   ]
  },
  {
   "cell_type": "code",
   "execution_count": 9,
   "metadata": {},
   "outputs": [],
   "source": [
    "Im1 = Image.fromarray(255 - Image_final)\n",
    "Im1.show()"
   ]
  }
 ],
 "metadata": {
  "kernelspec": {
   "display_name": "Python 3",
   "language": "python",
   "name": "python3"
  },
  "language_info": {
   "codemirror_mode": {
    "name": "ipython",
    "version": 3
   },
   "file_extension": ".py",
   "mimetype": "text/x-python",
   "name": "python",
   "nbconvert_exporter": "python",
   "pygments_lexer": "ipython3",
   "version": "3.7.1"
  }
 },
 "nbformat": 4,
 "nbformat_minor": 2
}
